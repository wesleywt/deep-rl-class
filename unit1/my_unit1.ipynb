{
 "cells": [
  {
   "cell_type": "markdown",
   "source": [
    "# Training for Reinforcement Learning of a Lunar Lander\n",
    "This is the first tutorial of HuggingFaces Deep Reinforcement Learning. I would like to run everything on my PC, but have been struggling with the installation. The problem seems to be that the Python versions in my installations might be too new for some of the RL libraries.\n",
    "\n",
    "The following is the solution to these installation problems\n",
    "\n",
    "## Installing libraries in WSL2\n",
    "WSL2 is now able to run Linux GUIs without the need for other X-term emulators.\n",
    "### Install Ananconda and python-opengl\n",
    "The libraries require python-opengl, xvfb. I am installing the rest because it works for now.\n",
    "1. Install Anaconda3 on WSL2\n",
    "2. ```sudo apt-get install python-opengl```\n",
    "3. ```sudo apt-get install cmake zlib1g-dev xorg-dev libgtk2.0-0 swig python-opengl xvfb``` - note that ```python-matplotlib``` is not installed\n",
    "\n",
    "### Create the environment\n",
    "Initially I created the conda environment with python=3.5. But the latest version python=3.9.12 seems to work just fine\n",
    "\n",
    "But you can set the version using\n",
    "```\n",
    "conda create --name gym python=3.5\n",
    "```\n",
    "For the conda python version\n",
    "```\n",
    "conda create --name gym\n",
    "```\n",
    "Activate the environment\n",
    "\n",
    "```\n",
    "source activate gym\n",
    "```\n",
    "Now install the OpenAI Gym package\n",
    "\n",
    "```\n",
    "pip install gym\n",
    "\n",
    "pip install gym[atari]\n",
    "\n",
    "pip install gym[box2d]\n",
    "```\n",
    "I have been having huge issues with gym[box2d], but now its installing just fine with this method. I couldn't run the PacMan because I don't have a license.\n",
    "\n",
    "I am sure this method will work for my Linux problems too. But I am having issues with the CUDA installation after the update to 22.04. I might need to install 20.04 again to solve these.\n",
    "\n",
    "\n",
    "### Install Python Virtual Display\n",
    "The next problem was with the virtual display.\n",
    "```pip install pyvirtualdisplay```\n",
    "\n",
    "I used Pycharm to install this\n",
    "\n",
    "The final part that kills WSL is that Jupyter doesn't work."
   ],
   "metadata": {
    "collapsed": false,
    "pycharm": {
     "name": "#%% md\n"
    }
   }
  },
  {
   "cell_type": "code",
   "execution_count": null,
   "outputs": [],
   "source": [
    "from pyvirtualdisplay import Display\n",
    "virtual_display = Display(visible=0, size=(1400, 900))\n",
    "virtual_display.start()"
   ],
   "metadata": {
    "collapsed": false,
    "pycharm": {
     "name": "#%%\n",
     "is_executing": true
    }
   }
  },
  {
   "cell_type": "code",
   "execution_count": null,
   "outputs": [],
   "source": [],
   "metadata": {
    "collapsed": false,
    "pycharm": {
     "name": "#%%\n"
    }
   }
  }
 ],
 "metadata": {
  "kernelspec": {
   "display_name": "Python 3",
   "language": "python",
   "name": "python3"
  },
  "language_info": {
   "codemirror_mode": {
    "name": "ipython",
    "version": 2
   },
   "file_extension": ".py",
   "mimetype": "text/x-python",
   "name": "python",
   "nbconvert_exporter": "python",
   "pygments_lexer": "ipython2",
   "version": "2.7.6"
  }
 },
 "nbformat": 4,
 "nbformat_minor": 0
}